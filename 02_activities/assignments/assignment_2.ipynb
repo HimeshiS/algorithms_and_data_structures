{
 "cells": [
  {
   "cell_type": "markdown",
   "metadata": {},
   "source": [
    "# Practice Interview\n",
    "\n",
    "## Objective\n",
    "\n",
    "_*The partner assignment aims to provide participants with the opportunity to practice coding in an interview context. You will analyze your partner's Assignment 1. Moreover, code reviews are common practice in a software development team. This assignment should give you a taste of the code review process.*_\n",
    "\n",
    "## Group Size\n",
    "\n",
    "Each group should have 2 people. You will be assigned a partner\n",
    "\n",
    "## Part 1:\n",
    "\n",
    "You and your partner must share each other's Assignment 1 submission."
   ]
  },
  {
   "cell_type": "markdown",
   "metadata": {},
   "source": [
    "\n",
    "## Part 2:\n",
    "\n",
    "Create a Jupyter Notebook, create 6 of the following headings, and complete the following for your partner's assignment 1:\n",
    "\n",
    "-   Paraphrase the problem in your own words.\n"
   ]
  },
  {
   "cell_type": "code",
   "execution_count": null,
   "metadata": {},
   "outputs": [],
   "source": [
    "# The problem asks to list all paths from root to leaves in a binary tree. "
   ]
  },
  {
   "cell_type": "markdown",
   "metadata": {},
   "source": [
    "\n",
    "-   Create 1 new example that demonstrates you understand the problem. Trace/walkthrough 1 example that your partner made and explain it.\n"
   ]
  },
  {
   "cell_type": "code",
   "execution_count": null,
   "metadata": {},
   "outputs": [],
   "source": [
    "# New example\n",
    "# Input: root = [1,3,5,7,9,8,6]\n",
    "# Output: [[1,3,7],[1,3,9],[1,5,8],[1,5,6]]\n",
    "\n",
    "# Partner's example\n",
    "# Input: [13, 12, 10, 9 ,6]\n",
    "# Output: [[13, 12, 9], [13, 10, 6]]\n",
    "\n",
    "# Explanation: In their example, the root of the tree is 13, next set of nodes are 12,10 and the leaves are 9,6, one connected to 12 and the other connected to 10.  "
   ]
  },
  {
   "cell_type": "markdown",
   "metadata": {},
   "source": [
    "\n",
    "-   Copy the solution your partner wrote. \n"
   ]
  },
  {
   "cell_type": "code",
   "execution_count": null,
   "metadata": {},
   "outputs": [],
   "source": [
    "# Definition for a binary tree node.\n",
    "class TreeNode:\n",
    "    def __init__(self, value = 0, left = None, right = None):\n",
    "        self.value = value\n",
    "        self.left = None\n",
    "        self.right = None\n",
    "\n",
    "def collect_path(node, path, all_paths):\n",
    "    if node is None:\n",
    "        return\n",
    "\n",
    "    # Append node to path\n",
    "    path.append(node.value)\n",
    "\n",
    "    # If node is a leaf, save path to all_paths\n",
    "    if node.left is None and node.right is None:\n",
    "        all_paths.append(list(path))\n",
    "    else:\n",
    "      \n",
    "        # Else, proceed to children\n",
    "        collect_path(node.left, path, all_paths)\n",
    "        collect_path(node.right, path, all_paths)\n",
    "\n",
    "    # When going back, remove the last node from the path\n",
    "    path.pop()\n",
    "\n",
    "# Function to get all paths from root to leaf \n",
    "def print_paths(root):\n",
    "    all_paths = []\n",
    "    collect_path(root, [], all_paths)\n",
    "    return all_paths"
   ]
  },
  {
   "cell_type": "markdown",
   "metadata": {},
   "source": [
    "\n",
    "-   Explain why their solution works in your own words.\n"
   ]
  },
  {
   "cell_type": "code",
   "execution_count": null,
   "metadata": {},
   "outputs": [],
   "source": [
    "# I was able to successfully trace examples logically, and ran their solution locally to verify a few more examples.\n",
    "# Their solution implemented a recursive approach to return all root to leaf paths in binary trees. \n",
    "# The solution traverses the tree by having the right checks and conditions in place to identify roots vs leaves"
   ]
  },
  {
   "cell_type": "markdown",
   "metadata": {},
   "source": [
    "\n",
    "-   Explain the problem’s time and space complexity in your own words.\n"
   ]
  },
  {
   "cell_type": "code",
   "execution_count": null,
   "metadata": {},
   "outputs": [],
   "source": [
    "# In this solution, each node of the tree is traversed exactly once. Therefore the time and space complexity both are O(n) where n is the number of nodes."
   ]
  },
  {
   "cell_type": "markdown",
   "metadata": {},
   "source": [
    "\n",
    "-   Critique your partner's solution, including explanation, and if there is anything that should be adjusted.\n"
   ]
  },
  {
   "cell_type": "code",
   "execution_count": null,
   "metadata": {},
   "outputs": [],
   "source": [
    "# Their solution is logical and I was able to verify that it works using samples. \n",
    "# One improvement would be function naming. The function 'print_paths' does not actually print the output to the console which may confuse the reader. It could be renamed to 'find_paths' instead. \n",
    "# I would also add the edge case of the tree being empty, in which case the function should return a string indicating this. "
   ]
  },
  {
   "cell_type": "markdown",
   "metadata": {},
   "source": [
    "\n",
    "## Part 3:\n",
    "\n",
    "Please write a 200 word reflection documenting your process from assignment 1, and your presentation and review experience with your partner at the bottom of the Jupyter Notebook under a new heading \"Reflection.\" Again, export this Notebook as pdf.\n"
   ]
  },
  {
   "cell_type": "markdown",
   "metadata": {},
   "source": [
    "### Reflection"
   ]
  },
  {
   "cell_type": "code",
   "execution_count": null,
   "metadata": {},
   "outputs": [],
   "source": [
    "# As someone new to Python coding and computer science, I found the concepts presented in this module challenging. This was my first time learning concepts such as time and space complexities and trying out leetcode style questions. \n",
    "# The assignments for this module were crucial for seeing the concepts in applied settings which helped to solidify my understanding of the concepts.  \n",
    "# Working on Assignment 1 allowed me to understand the problem of detecting duplicates in a binary tree. I implemented a breadth-first search (BFS) approach, which aligns with the requirement to return the duplicate closest to the root. \n",
    "# By traversing the tree level by level, BFS ensures that duplicates are identified in the order of their depth, prioritizing those nearer to the root. \n",
    "# Writing detailed explanations of the time and space complexity helped me solidify my understanding of why the complexitt is O(n), as every node is processed at most once.\n",
    "\n",
    "# The code review experience was quite helpful to me in getting to think about how the code I write can be perceived by someone else. I learned that it is important to write clean code and explain your thought process with commenting.\n",
    "# My partner's comments in the code helped me to follow along with this logic and understand what his solution to the problem was. \n",
    "# I tested out the partner's solution using a few examples to verify that it works, which solidified my understanding of the solution even further, which also enabled me to look at it more critically. \n",
    "# I recognize that having someone else review your code is important, especially in collaborative projects because different team members can bring different perspectives. "
   ]
  },
  {
   "cell_type": "markdown",
   "metadata": {},
   "source": [
    "\n",
    "## Evaluation Criteria\n",
    "\n",
    "We are looking for the similar points as Assignment 1\n",
    "\n",
    "-   Problem is accurately stated\n",
    "\n",
    "-   New example is correct and easily understandable\n",
    "\n",
    "-   Correctness, time, and space complexity of the coding solution\n",
    "\n",
    "-   Clarity in explaining why the solution works, its time and space complexity\n",
    "\n",
    "-   Quality of critique of your partner's assignment, if necessary\n"
   ]
  },
  {
   "cell_type": "markdown",
   "metadata": {},
   "source": [
    "## Submission Information\n",
    "\n",
    "🚨 **Please review our [Assignment Submission Guide](https://github.com/UofT-DSI/onboarding/blob/main/onboarding_documents/submissions.md)** 🚨 for detailed instructions on how to format, branch, and submit your work. Following these guidelines is crucial for your submissions to be evaluated correctly.\n",
    "\n",
    "### Submission Parameters:\n",
    "* Submission Due Date: `HH:MM AM/PM - DD/MM/YYYY`\n",
    "* The branch name for your repo should be: `assignment-2`\n",
    "* What to submit for this assignment:\n",
    "    * This Jupyter Notebook (assignment_2.ipynb) should be populated and should be the only change in your pull request.\n",
    "* What the pull request link should look like for this assignment: `https://github.com/<your_github_username>/algorithms_and_data_structures/pull/<pr_id>`\n",
    "    * Open a private window in your browser. Copy and paste the link to your pull request into the address bar. Make sure you can see your pull request properly. This helps the technical facilitator and learning support staff review your submission easily.\n",
    "\n",
    "Checklist:\n",
    "- [ ] Created a branch with the correct naming convention.\n",
    "- [ ] Ensured that the repository is public.\n",
    "- [ ] Reviewed the PR description guidelines and adhered to them.\n",
    "- [ ] Verify that the link is accessible in a private browser window.\n",
    "\n",
    "If you encounter any difficulties or have questions, please don't hesitate to reach out to our team via our Slack at `#cohort-3-help`. Our Technical Facilitators and Learning Support staff are here to help you navigate any challenges.\n"
   ]
  }
 ],
 "metadata": {
  "language_info": {
   "name": "python"
  }
 },
 "nbformat": 4,
 "nbformat_minor": 2
}
